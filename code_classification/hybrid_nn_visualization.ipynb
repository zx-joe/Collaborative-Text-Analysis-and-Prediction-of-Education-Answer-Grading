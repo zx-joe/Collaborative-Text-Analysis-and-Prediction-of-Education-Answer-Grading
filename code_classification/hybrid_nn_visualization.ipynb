{
 "cells": [
  {
   "cell_type": "code",
   "execution_count": 1,
   "metadata": {},
   "outputs": [
    {
     "name": "stderr",
     "output_type": "stream",
     "text": [
      "Using TensorFlow backend.\n"
     ]
    }
   ],
   "source": [
    "import numpy as np\n",
    "import pandas as pd\n",
    "from keras.layers import Input, Dense, Flatten,Activation\n",
    "from keras.layers import Conv1D, MaxPooling1D,Dropout,LSTM, Conv2D\n",
    "from keras.layers import Embedding, BatchNormalization, merge, Reshape, Lambda\n",
    "from keras.models import Model\n",
    "from keras.layers.embeddings import Embedding\n",
    "from keras.models import model_from_json, load_model\n",
    "import keras.backend as K\n",
    "\n",
    "from nn_model.UltimateModel import create_my_ultimate_model"
   ]
  },
  {
   "cell_type": "code",
   "execution_count": 2,
   "metadata": {},
   "outputs": [],
   "source": [
    "numerical_feature_length=8\n",
    "max_word_sequence_length=32\n",
    "max_numerical_sequence_length=8\n",
    "max_operator_squence_length=8\n",
    "\n",
    "hidden_1=16\n",
    "hidden_2=8\n",
    "\n",
    "vocab_size=300\n",
    "embedding_output_dim_1=8\n",
    "max_embedding_length_1=32\n",
    "lstm_output_dim_1=32\n",
    "\n",
    "opetator_size=8\n",
    "embedding_output_dim_2=1\n",
    "max_embedding_length_2=8\n",
    "\n",
    "operator_numerical_merge_dim=8\n",
    "\n",
    "conv_output_dim_1=16\n",
    "kernel_h_1=2\n",
    "kernel_w_1=5\n",
    "\n",
    "word_operator_numerical_merge_dim=16\n",
    "\n",
    "conv_output_dim_2=8\n",
    "kernel_h_2=2\n",
    "kernel_w_2=3\n",
    "\n",
    "hidden_3=32\n",
    "final_dim=5"
   ]
  },
  {
   "cell_type": "code",
   "execution_count": 3,
   "metadata": {},
   "outputs": [
    {
     "name": "stderr",
     "output_type": "stream",
     "text": [
      "D:\\anaconda\\lib\\site-packages\\ipykernel_launcher.py:49: UserWarning: Update your `Model` call to the Keras 2 API: `Model(inputs=[<tf.Tenso..., outputs=Tensor(\"de...)`\n"
     ]
    }
   ],
   "source": [
    "numerical_feature_input = Input(shape=[numerical_feature_length])  # 1\n",
    "word_sequence_input = Input(shape=[max_word_sequence_length])  # 2\n",
    "numerical_sequence_input=Input(shape=[max_numerical_sequence_length]) # 3  \n",
    "operator_sequence_input=Input(shape=[max_operator_squence_length])  # 4\n",
    "\n",
    "w1=Dense(hidden_1, activation='relu')(numerical_feature_input)\n",
    "w1=Dense(hidden_2, activation='relu')(w1)\n",
    "w1=BatchNormalization()(w1)\n",
    "\n",
    "w2=Embedding(vocab_size, embedding_output_dim_1 , input_length=max_embedding_length_1)(word_sequence_input)\n",
    "w2=Dropout(0.3)(w2)\n",
    "w2=LSTM(lstm_output_dim_1)(w2)\n",
    "w2=Dropout(0.3)(w2)\n",
    "\n",
    "w3=numerical_sequence_input\n",
    "w4=Embedding(opetator_size, embedding_output_dim_2 , input_length=max_embedding_length_2)(operator_sequence_input)\n",
    "w3=Reshape((-1,operator_numerical_merge_dim))(w3)\n",
    "w4=Reshape((-1,operator_numerical_merge_dim))(w4)\n",
    "\n",
    "\n",
    "#w34=K.concatenate([w3, w4], axis=-2)\n",
    "w34 = Lambda(lambda x: K.concatenate([x[0], x[1]], axis=-2))([w3,w4])\n",
    "#w34 = Lambda(k_concat_1)(w3,w4)\n",
    "\n",
    "w34=Reshape((-1,8,1))(w34)\n",
    "\n",
    "w34=Conv2D(conv_output_dim_1,kernel_size=(kernel_h_1, kernel_w_1), activation='relu')(w34)\n",
    "w34=Reshape((-1,word_operator_numerical_merge_dim))(w34)\n",
    "w2=Reshape((-1,word_operator_numerical_merge_dim))(w2)\n",
    "\n",
    "w234 = Lambda(lambda x: K.concatenate([x[0], x[1]], axis=-2))([w2,w34])\n",
    "#w234=K.concatenate([w2, w34], axis=-2)\n",
    "\n",
    "w234=Reshape((-1,8,1))(w234)\n",
    "w234=Conv2D(conv_output_dim_2,kernel_size=(kernel_h_2, kernel_w_2), activation='relu')(w234)\n",
    "w234=BatchNormalization()(w234)\n",
    "\n",
    "w234=Reshape((-1,1))(w234)\n",
    "w1=Reshape((-1,1))(w1)\n",
    "#w234=Flatten()(w234)\n",
    "\n",
    "w1234 = Lambda(lambda x: K.concatenate([x[0], x[1]],axis=-2 ))([w1,w234])\n",
    "#w1234=K.concatenate([w1, w234],axis=-1)\n",
    "w1234=Dense(hidden_3, activation='relu')(w1234)\n",
    "w1234=Dropout(0.3)(w1234)\n",
    "w1234=Dense(final_dim, activation='softmax')(w1234)\n",
    "\n",
    " \n",
    "model = Model(input=[numerical_feature_input,word_sequence_input,numerical_sequence_input,operator_sequence_input] ,output=w1234)"
   ]
  },
  {
   "cell_type": "code",
   "execution_count": 4,
   "metadata": {},
   "outputs": [],
   "source": [
    "model_json = model.to_json()\n",
    "with open('nn_model/ultimate_model.json', 'w') as file:\n",
    "    file.write(model_json)"
   ]
  },
  {
   "cell_type": "code",
   "execution_count": 5,
   "metadata": {},
   "outputs": [
    {
     "name": "stdout",
     "output_type": "stream",
     "text": [
      "Serving 'nn_model/ultimate_model.json' at http://localhost:8080\n"
     ]
    }
   ],
   "source": [
    "import netron\n",
    "modelPath = \"nn_model/ultimate_model.json\"\n",
    "netron.start(modelPath)"
   ]
  },
  {
   "cell_type": "code",
   "execution_count": null,
   "metadata": {},
   "outputs": [],
   "source": []
  }
 ],
 "metadata": {
  "kernelspec": {
   "display_name": "Python 3",
   "language": "python",
   "name": "python3"
  },
  "language_info": {
   "codemirror_mode": {
    "name": "ipython",
    "version": 3
   },
   "file_extension": ".py",
   "mimetype": "text/x-python",
   "name": "python",
   "nbconvert_exporter": "python",
   "pygments_lexer": "ipython3",
   "version": "3.7.3"
  }
 },
 "nbformat": 4,
 "nbformat_minor": 2
}

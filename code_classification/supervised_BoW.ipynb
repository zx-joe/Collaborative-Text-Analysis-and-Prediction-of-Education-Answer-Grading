{
 "cells": [
  {
   "cell_type": "code",
   "execution_count": 1,
   "metadata": {},
   "outputs": [
    {
     "name": "stderr",
     "output_type": "stream",
     "text": [
      "[nltk_data] Downloading package stopwords to\n",
      "[nltk_data]     C:\\Users\\奥拉朱旺\\AppData\\Roaming\\nltk_data...\n",
      "[nltk_data]   Package stopwords is already up-to-date!\n",
      "[nltk_data] Downloading package punkt to\n",
      "[nltk_data]     C:\\Users\\奥拉朱旺\\AppData\\Roaming\\nltk_data...\n",
      "[nltk_data]   Package punkt is already up-to-date!\n",
      "[nltk_data] Downloading package averaged_perceptron_tagger to\n",
      "[nltk_data]     C:\\Users\\奥拉朱旺\\AppData\\Roaming\\nltk_data...\n",
      "[nltk_data]   Package averaged_perceptron_tagger is already up-to-\n",
      "[nltk_data]       date!\n",
      "[nltk_data] Downloading package wordnet to\n",
      "[nltk_data]     C:\\Users\\奥拉朱旺\\AppData\\Roaming\\nltk_data...\n",
      "[nltk_data]   Package wordnet is already up-to-date!\n"
     ]
    },
    {
     "name": "stdout",
     "output_type": "stream",
     "text": [
      "Populating the interactive namespace from numpy and matplotlib\n"
     ]
    }
   ],
   "source": [
    "import numpy as np\n",
    "import pandas as pd\n",
    "import nltk\n",
    "from nltk.tokenize import word_tokenize\n",
    "nltk.download('stopwords')\n",
    "nltk.download('punkt')\n",
    "from nltk.corpus import stopwords\n",
    "nltk.download('averaged_perceptron_tagger')\n",
    "import imageio\n",
    "nltk.download('wordnet')\n",
    "from nltk.stem import WordNetLemmatizer\n",
    "from nltk.stem.porter import PorterStemmer\n",
    "# importing preliminaries\n",
    "%pylab inline\n",
    "import re\n",
    "import math\n",
    "import string\n",
    "from collections import Counter\n",
    "from nltk.probability import FreqDist\n",
    "import seaborn as sns\n",
    "import re\n",
    "import math\n",
    "import string\n",
    "from collections import Counter\n",
    "import matplotlib.pyplot as plt\n",
    "from mpl_toolkits.mplot3d import Axes3D\n",
    "import sklearn\n",
    "#from __future__ import division"
   ]
  },
  {
   "cell_type": "code",
   "execution_count": 2,
   "metadata": {},
   "outputs": [],
   "source": [
    "data_1=pd.read_pickle('cleaned_df_final.pkl')\n",
    "data_2=pd.read_csv('textResponses_graded.csv')"
   ]
  },
  {
   "cell_type": "code",
   "execution_count": 3,
   "metadata": {},
   "outputs": [
    {
     "data": {
      "text/plain": [
       "322"
      ]
     },
     "execution_count": 3,
     "metadata": {},
     "output_type": "execute_result"
    }
   ],
   "source": [
    "len(data_1)-len(data_2)"
   ]
  },
  {
   "cell_type": "code",
   "execution_count": 4,
   "metadata": {},
   "outputs": [],
   "source": [
    "#data_2=data_2.iloc[:1450]\n",
    "data_2=data_2[['Transaction Id','correctness','answerType']]"
   ]
  },
  {
   "cell_type": "code",
   "execution_count": 5,
   "metadata": {},
   "outputs": [],
   "source": [
    "data=pd.merge(data_1,data_2,on='Transaction Id')"
   ]
  },
  {
   "cell_type": "code",
   "execution_count": 6,
   "metadata": {},
   "outputs": [
    {
     "data": {
      "text/html": [
       "<div>\n",
       "<style scoped>\n",
       "    .dataframe tbody tr th:only-of-type {\n",
       "        vertical-align: middle;\n",
       "    }\n",
       "\n",
       "    .dataframe tbody tr th {\n",
       "        vertical-align: top;\n",
       "    }\n",
       "\n",
       "    .dataframe thead th {\n",
       "        text-align: right;\n",
       "    }\n",
       "</style>\n",
       "<table border=\"1\" class=\"dataframe\">\n",
       "  <thead>\n",
       "    <tr style=\"text-align: right;\">\n",
       "      <th></th>\n",
       "      <th>Row</th>\n",
       "      <th>Transaction Id</th>\n",
       "      <th>Anon Student Id</th>\n",
       "      <th>Session Id</th>\n",
       "      <th>Time</th>\n",
       "      <th>Duration (sec)</th>\n",
       "      <th>Student Response Subtype</th>\n",
       "      <th>Level (Assignment)</th>\n",
       "      <th>Level (ProblemSet)</th>\n",
       "      <th>Problem Name</th>\n",
       "      <th>...</th>\n",
       "      <th>CF (Team Position)</th>\n",
       "      <th>CF (collaborating_sessions)</th>\n",
       "      <th>CF (step_id)</th>\n",
       "      <th>CF (tool_event_time)</th>\n",
       "      <th>CF (tutor_event_time)</th>\n",
       "      <th>word_list</th>\n",
       "      <th>num_list</th>\n",
       "      <th>symb_list</th>\n",
       "      <th>correctness</th>\n",
       "      <th>answerType</th>\n",
       "    </tr>\n",
       "  </thead>\n",
       "  <tbody>\n",
       "    <tr>\n",
       "      <td>7002</td>\n",
       "      <td>1029681</td>\n",
       "      <td>c54a5c28bced19d58961535e46614ad2</td>\n",
       "      <td>Stu_ffe4ba291fd0ec27d27a34dcceb3a617</td>\n",
       "      <td>S112d59de762cb6b27718fd92dc970abc</td>\n",
       "      <td>5/19/16 9:12</td>\n",
       "      <td>8.8</td>\n",
       "      <td>NaN</td>\n",
       "      <td>Comparing Erroneous Collaboration</td>\n",
       "      <td>Erroneous_Comparing_Collaboration</td>\n",
       "      <td>6a</td>\n",
       "      <td>...</td>\n",
       "      <td>1 of 2</td>\n",
       "      <td>S7c153e885bb28b9baeb781b48cbd5527,S112d59de762...</td>\n",
       "      <td>32.0</td>\n",
       "      <td>2016-05-19 13:12:37.259 UTC</td>\n",
       "      <td>2016-05-19 13:12:37.275 UTC</td>\n",
       "      <td>[use, the, same, least, common, denominator]</td>\n",
       "      <td>[]</td>\n",
       "      <td>[]</td>\n",
       "      <td>0</td>\n",
       "      <td>NaN</td>\n",
       "    </tr>\n",
       "    <tr>\n",
       "      <td>7003</td>\n",
       "      <td>1029721</td>\n",
       "      <td>57973b31d8c3c6e36d2665f6247f6f8b</td>\n",
       "      <td>Stu_ffe4ba291fd0ec27d27a34dcceb3a617</td>\n",
       "      <td>S112d59de762cb6b27718fd92dc970abc</td>\n",
       "      <td>5/19/16 9:13</td>\n",
       "      <td>6.75</td>\n",
       "      <td>Student1</td>\n",
       "      <td>Comparing Erroneous Collaboration</td>\n",
       "      <td>Erroneous_Comparing_Collaboration</td>\n",
       "      <td>7a</td>\n",
       "      <td>...</td>\n",
       "      <td>1 of 2</td>\n",
       "      <td>S7c153e885bb28b9baeb781b48cbd5527,S112d59de762...</td>\n",
       "      <td>32.0</td>\n",
       "      <td>2016-05-19 13:13:55.28 UTC</td>\n",
       "      <td>2016-05-19 13:13:55.28 UTC</td>\n",
       "      <td>[don't, add, the, numerator]</td>\n",
       "      <td>[]</td>\n",
       "      <td>[]</td>\n",
       "      <td>0</td>\n",
       "      <td>NaN</td>\n",
       "    </tr>\n",
       "    <tr>\n",
       "      <td>7004</td>\n",
       "      <td>1029793</td>\n",
       "      <td>1ac1c571e80971e2f51a8839132b807c</td>\n",
       "      <td>Stu_ffe4ba291fd0ec27d27a34dcceb3a617</td>\n",
       "      <td>S112d59de762cb6b27718fd92dc970abc</td>\n",
       "      <td>5/19/16 9:17</td>\n",
       "      <td>13.75</td>\n",
       "      <td>Student1</td>\n",
       "      <td>Comparing Erroneous Collaboration</td>\n",
       "      <td>Erroneous_Comparing_Collaboration</td>\n",
       "      <td>8a</td>\n",
       "      <td>...</td>\n",
       "      <td>1 of 2</td>\n",
       "      <td>S7c153e885bb28b9baeb781b48cbd5527,S112d59de762...</td>\n",
       "      <td>32.0</td>\n",
       "      <td>2016-05-19 13:17:01.843 UTC</td>\n",
       "      <td>2016-05-19 13:17:01.859 UTC</td>\n",
       "      <td>[the, larger, denominator, does, not, always, ...</td>\n",
       "      <td>[]</td>\n",
       "      <td>[]</td>\n",
       "      <td>0</td>\n",
       "      <td>NaN</td>\n",
       "    </tr>\n",
       "    <tr>\n",
       "      <td>7005</td>\n",
       "      <td>1030198</td>\n",
       "      <td>e10dce32b913fc822b5df17cb513e16f</td>\n",
       "      <td>Stu_ffe4ba291fd0ec27d27a34dcceb3a617</td>\n",
       "      <td>Sc03f3121c394179d88011f7f77ce420a</td>\n",
       "      <td>5/20/16 8:58</td>\n",
       "      <td>47.5</td>\n",
       "      <td>NaN</td>\n",
       "      <td>Show what you learned A</td>\n",
       "      <td>Assessment_A</td>\n",
       "      <td>5</td>\n",
       "      <td>...</td>\n",
       "      <td>NaN</td>\n",
       "      <td>NaN</td>\n",
       "      <td>236.0</td>\n",
       "      <td>2016-05-20 12:58:53.910 UTC</td>\n",
       "      <td>2016-05-20 12:58:53.911 UTC</td>\n",
       "      <td>[it, cannot, be, 6/13, FRACTION, because, of, ...</td>\n",
       "      <td>[6, 13]</td>\n",
       "      <td>[/]</td>\n",
       "      <td>1</td>\n",
       "      <td>v</td>\n",
       "    </tr>\n",
       "    <tr>\n",
       "      <td>7006</td>\n",
       "      <td>1030200</td>\n",
       "      <td>53406cfa5946f9f896abedeb214aaa55</td>\n",
       "      <td>Stu_ffe4ba291fd0ec27d27a34dcceb3a617</td>\n",
       "      <td>Sc03f3121c394179d88011f7f77ce420a</td>\n",
       "      <td>5/20/16 8:59</td>\n",
       "      <td>26.5</td>\n",
       "      <td>NaN</td>\n",
       "      <td>Show what you learned A</td>\n",
       "      <td>Assessment_A</td>\n",
       "      <td>6</td>\n",
       "      <td>...</td>\n",
       "      <td>NaN</td>\n",
       "      <td>NaN</td>\n",
       "      <td>236.0</td>\n",
       "      <td>2016-05-20 12:59:54.615 UTC</td>\n",
       "      <td>2016-05-20 12:59:54.633 UTC</td>\n",
       "      <td>[32/65, FRACTION, be, smaller, because, it, be...</td>\n",
       "      <td>[32, 65]</td>\n",
       "      <td>[/]</td>\n",
       "      <td>1</td>\n",
       "      <td>p</td>\n",
       "    </tr>\n",
       "  </tbody>\n",
       "</table>\n",
       "<p>5 rows × 35 columns</p>\n",
       "</div>"
      ],
      "text/plain": [
       "          Row                    Transaction Id  \\\n",
       "7002  1029681  c54a5c28bced19d58961535e46614ad2   \n",
       "7003  1029721  57973b31d8c3c6e36d2665f6247f6f8b   \n",
       "7004  1029793  1ac1c571e80971e2f51a8839132b807c   \n",
       "7005  1030198  e10dce32b913fc822b5df17cb513e16f   \n",
       "7006  1030200  53406cfa5946f9f896abedeb214aaa55   \n",
       "\n",
       "                           Anon Student Id                         Session Id  \\\n",
       "7002  Stu_ffe4ba291fd0ec27d27a34dcceb3a617  S112d59de762cb6b27718fd92dc970abc   \n",
       "7003  Stu_ffe4ba291fd0ec27d27a34dcceb3a617  S112d59de762cb6b27718fd92dc970abc   \n",
       "7004  Stu_ffe4ba291fd0ec27d27a34dcceb3a617  S112d59de762cb6b27718fd92dc970abc   \n",
       "7005  Stu_ffe4ba291fd0ec27d27a34dcceb3a617  Sc03f3121c394179d88011f7f77ce420a   \n",
       "7006  Stu_ffe4ba291fd0ec27d27a34dcceb3a617  Sc03f3121c394179d88011f7f77ce420a   \n",
       "\n",
       "              Time Duration (sec) Student Response Subtype  \\\n",
       "7002  5/19/16 9:12            8.8                      NaN   \n",
       "7003  5/19/16 9:13           6.75                 Student1   \n",
       "7004  5/19/16 9:17          13.75                 Student1   \n",
       "7005  5/20/16 8:58           47.5                      NaN   \n",
       "7006  5/20/16 8:59           26.5                      NaN   \n",
       "\n",
       "                     Level (Assignment)                 Level (ProblemSet)  \\\n",
       "7002  Comparing Erroneous Collaboration  Erroneous_Comparing_Collaboration   \n",
       "7003  Comparing Erroneous Collaboration  Erroneous_Comparing_Collaboration   \n",
       "7004  Comparing Erroneous Collaboration  Erroneous_Comparing_Collaboration   \n",
       "7005            Show what you learned A                       Assessment_A   \n",
       "7006            Show what you learned A                       Assessment_A   \n",
       "\n",
       "     Problem Name  ...  CF (Team Position)  \\\n",
       "7002           6a  ...              1 of 2   \n",
       "7003           7a  ...              1 of 2   \n",
       "7004           8a  ...              1 of 2   \n",
       "7005            5  ...                 NaN   \n",
       "7006            6  ...                 NaN   \n",
       "\n",
       "                            CF (collaborating_sessions) CF (step_id)  \\\n",
       "7002  S7c153e885bb28b9baeb781b48cbd5527,S112d59de762...         32.0   \n",
       "7003  S7c153e885bb28b9baeb781b48cbd5527,S112d59de762...         32.0   \n",
       "7004  S7c153e885bb28b9baeb781b48cbd5527,S112d59de762...         32.0   \n",
       "7005                                                NaN        236.0   \n",
       "7006                                                NaN        236.0   \n",
       "\n",
       "             CF (tool_event_time)        CF (tutor_event_time)  \\\n",
       "7002  2016-05-19 13:12:37.259 UTC  2016-05-19 13:12:37.275 UTC   \n",
       "7003   2016-05-19 13:13:55.28 UTC   2016-05-19 13:13:55.28 UTC   \n",
       "7004  2016-05-19 13:17:01.843 UTC  2016-05-19 13:17:01.859 UTC   \n",
       "7005  2016-05-20 12:58:53.910 UTC  2016-05-20 12:58:53.911 UTC   \n",
       "7006  2016-05-20 12:59:54.615 UTC  2016-05-20 12:59:54.633 UTC   \n",
       "\n",
       "                                              word_list  num_list symb_list  \\\n",
       "7002       [use, the, same, least, common, denominator]        []        []   \n",
       "7003                       [don't, add, the, numerator]        []        []   \n",
       "7004  [the, larger, denominator, does, not, always, ...        []        []   \n",
       "7005  [it, cannot, be, 6/13, FRACTION, because, of, ...   [6, 13]       [/]   \n",
       "7006  [32/65, FRACTION, be, smaller, because, it, be...  [32, 65]       [/]   \n",
       "\n",
       "     correctness answerType  \n",
       "7002           0        NaN  \n",
       "7003           0        NaN  \n",
       "7004           0        NaN  \n",
       "7005           1          v  \n",
       "7006           1          p  \n",
       "\n",
       "[5 rows x 35 columns]"
      ]
     },
     "execution_count": 6,
     "metadata": {},
     "output_type": "execute_result"
    }
   ],
   "source": [
    "data.tail()"
   ]
  },
  {
   "cell_type": "code",
   "execution_count": 7,
   "metadata": {},
   "outputs": [
    {
     "data": {
      "text/plain": [
       "Index(['Row', 'Transaction Id', 'Anon Student Id', 'Session Id', 'Time',\n",
       "       'Duration (sec)', 'Student Response Subtype', 'Level (Assignment)',\n",
       "       'Level (ProblemSet)', 'Problem Name', 'Problem View',\n",
       "       'Problem Start Time', 'Step Name', 'Attempt At Step', 'Is Last Attempt',\n",
       "       'Outcome', 'Selection', 'Input', 'Input.1', 'KC (Default)',\n",
       "       'KC (Unique-step)', 'School', 'Class', 'CF (Completion History)',\n",
       "       'CF (Team ID)', 'CF (Team Position)', 'CF (collaborating_sessions)',\n",
       "       'CF (step_id)', 'CF (tool_event_time)', 'CF (tutor_event_time)',\n",
       "       'word_list', 'num_list', 'symb_list', 'correctness', 'answerType'],\n",
       "      dtype='object')"
      ]
     },
     "execution_count": 7,
     "metadata": {},
     "output_type": "execute_result"
    }
   ],
   "source": [
    "data.columns"
   ]
  },
  {
   "cell_type": "code",
   "execution_count": 8,
   "metadata": {},
   "outputs": [
    {
     "data": {
      "text/plain": [
       "1     6712\n",
       "2      160\n",
       "3       37\n",
       "4       36\n",
       "6       22\n",
       "5        8\n",
       "7        7\n",
       "9        5\n",
       "10       4\n",
       "8        4\n",
       "14       2\n",
       "23       2\n",
       "13       2\n",
       "11       2\n",
       "12       2\n",
       "24       1\n",
       "27       1\n",
       "Name: Attempt At Step, dtype: int64"
      ]
     },
     "execution_count": 8,
     "metadata": {},
     "output_type": "execute_result"
    }
   ],
   "source": [
    "data['Attempt At Step'].value_counts()"
   ]
  },
  {
   "cell_type": "code",
   "execution_count": 9,
   "metadata": {},
   "outputs": [
    {
     "data": {
      "text/plain": [
       "Index(['p', 'c', 'n', 'u', 'v', 'c '], dtype='object')"
      ]
     },
     "execution_count": 9,
     "metadata": {},
     "output_type": "execute_result"
    }
   ],
   "source": [
    "data['answerType'].value_counts().index"
   ]
  },
  {
   "cell_type": "code",
   "execution_count": 10,
   "metadata": {},
   "outputs": [
    {
     "name": "stderr",
     "output_type": "stream",
     "text": [
      "D:\\anaconda\\envs\\torch\\lib\\site-packages\\ipykernel_launcher.py:3: SettingWithCopyWarning: \n",
      "A value is trying to be set on a copy of a slice from a DataFrame\n",
      "\n",
      "See the caveats in the documentation: http://pandas.pydata.org/pandas-docs/stable/user_guide/indexing.html#returning-a-view-versus-a-copy\n",
      "  This is separate from the ipykernel package so we can avoid doing imports until\n"
     ]
    }
   ],
   "source": [
    "for i in range(len(data)):\n",
    "    if data.answerType[i]=='c ':\n",
    "        data.answerType[i]='c'"
   ]
  },
  {
   "cell_type": "code",
   "execution_count": 11,
   "metadata": {},
   "outputs": [],
   "source": [
    "from nltk.classify.scikitlearn import SklearnClassifier\n",
    "from sklearn.naive_bayes import MultinomialNB,BernoulliNB\n",
    "from sklearn.linear_model import LogisticRegression,SGDClassifier\n",
    "from sklearn.svm import SVC, LinearSVC, NuSVC"
   ]
  },
  {
   "cell_type": "code",
   "execution_count": 12,
   "metadata": {},
   "outputs": [],
   "source": [
    "all_words=[]\n",
    "for i in range(len(data)):\n",
    "    temp_word_list=data.word_list[i]\n",
    "    for temp_word in temp_word_list:\n",
    "        if not (temp_word in all_words):\n",
    "            all_words.append(temp_word)\n",
    "               "
   ]
  },
  {
   "cell_type": "code",
   "execution_count": 13,
   "metadata": {},
   "outputs": [
    {
     "name": "stderr",
     "output_type": "stream",
     "text": [
      "D:\\anaconda\\envs\\torch\\lib\\site-packages\\ipykernel_launcher.py:8: SettingWithCopyWarning: \n",
      "A value is trying to be set on a copy of a slice from a DataFrame\n",
      "\n",
      "See the caveats in the documentation: http://pandas.pydata.org/pandas-docs/stable/user_guide/indexing.html#returning-a-view-versus-a-copy\n",
      "  \n"
     ]
    }
   ],
   "source": [
    "data['answer']=''\n",
    "for i in range(len(data)):\n",
    "    temp_word_list=data.word_list[i]\n",
    "    temp_answer=''\n",
    "    for temp_word in temp_word_list:\n",
    "        temp_answer=temp_answer+temp_word+' '\n",
    "    temp_answer=temp_answer[:-1]\n",
    "    data['answer'][i]=temp_answer"
   ]
  },
  {
   "cell_type": "code",
   "execution_count": 14,
   "metadata": {},
   "outputs": [],
   "source": [
    "select_index=[]\n",
    "for i in range(len(data)):\n",
    "    if type(data.answerType.iloc[i]) ==str:\n",
    "        select_index.append(i)"
   ]
  },
  {
   "cell_type": "code",
   "execution_count": 15,
   "metadata": {},
   "outputs": [],
   "source": [
    "new_data=data.iloc[select_index]"
   ]
  },
  {
   "cell_type": "code",
   "execution_count": 16,
   "metadata": {},
   "outputs": [
    {
     "data": {
      "text/plain": [
       "p    888\n",
       "c    268\n",
       "n    143\n",
       "u     75\n",
       "v     74\n",
       "Name: answerType, dtype: int64"
      ]
     },
     "execution_count": 16,
     "metadata": {},
     "output_type": "execute_result"
    }
   ],
   "source": [
    "new_data.answerType.value_counts()"
   ]
  },
  {
   "cell_type": "code",
   "execution_count": 17,
   "metadata": {},
   "outputs": [],
   "source": [
    "new_data.to_csv('chili_final.csv',index=False) "
   ]
  },
  {
   "cell_type": "code",
   "execution_count": 18,
   "metadata": {},
   "outputs": [
    {
     "data": {
      "text/plain": [
       "'i do not know the answer'"
      ]
     },
     "execution_count": 18,
     "metadata": {},
     "output_type": "execute_result"
    }
   ],
   "source": [
    "data.answer[1]"
   ]
  },
  {
   "cell_type": "code",
   "execution_count": 19,
   "metadata": {},
   "outputs": [],
   "source": [
    "select_rows=[]\n",
    "for i in range(len(data)):\n",
    "    if data.answerType[i] in ['p','c','n','u','v']:\n",
    "        select_rows.append(i)\n",
    "data=data.iloc[select_rows]"
   ]
  },
  {
   "cell_type": "code",
   "execution_count": 20,
   "metadata": {},
   "outputs": [
    {
     "data": {
      "text/plain": [
       "1    900\n",
       "0    548\n",
       "Name: correctness, dtype: int64"
      ]
     },
     "execution_count": 20,
     "metadata": {},
     "output_type": "execute_result"
    }
   ],
   "source": [
    "data.correctness.value_counts()"
   ]
  },
  {
   "cell_type": "code",
   "execution_count": 21,
   "metadata": {},
   "outputs": [
    {
     "data": {
      "text/plain": [
       "p    888\n",
       "c    268\n",
       "n    143\n",
       "u     75\n",
       "v     74\n",
       "Name: answerType, dtype: int64"
      ]
     },
     "execution_count": 21,
     "metadata": {},
     "output_type": "execute_result"
    }
   ],
   "source": [
    "data.answerType.value_counts()"
   ]
  },
  {
   "cell_type": "markdown",
   "metadata": {},
   "source": [
    "# TFIDF with naive Bayes with raw input"
   ]
  },
  {
   "cell_type": "code",
   "execution_count": 25,
   "metadata": {},
   "outputs": [],
   "source": [
    "f_train = data.iloc[:1352][ 'Input'].values\n",
    "c_train = data.iloc[:1352]['correctness'].values\n",
    "at_train = data.iloc[:1352][ 'answerType'].values\n",
    "f_test = data.iloc[1353:][ 'Input'].values\n",
    "c_test = data.iloc[1353:]['correctness'].values\n",
    "at_test = data.iloc[1353:]['answerType'].values"
   ]
  },
  {
   "cell_type": "markdown",
   "metadata": {},
   "source": [
    "### correctness"
   ]
  },
  {
   "cell_type": "code",
   "execution_count": 26,
   "metadata": {},
   "outputs": [
    {
     "name": "stdout",
     "output_type": "stream",
     "text": [
      "(1352, 1366) (95, 1366)\n"
     ]
    }
   ],
   "source": [
    "from sklearn.feature_extraction.text import TfidfTransformer\n",
    "from sklearn.feature_extraction.text import TfidfVectorizer\n",
    "vectorizer = TfidfVectorizer()\n",
    "train_vectors = vectorizer.fit_transform(f_train)\n",
    "test_vectors = vectorizer.transform(f_test)\n",
    "print(train_vectors.shape, test_vectors.shape)"
   ]
  },
  {
   "cell_type": "code",
   "execution_count": 27,
   "metadata": {},
   "outputs": [
    {
     "name": "stdout",
     "output_type": "stream",
     "text": [
      "accuracy of correctness classification with bayes classifier: 0.7368421052631579\n",
      "f1 score of correctness classification with bayes classifier: 0.8120300751879699\n"
     ]
    }
   ],
   "source": [
    "from  sklearn.metrics  import accuracy_score, f1_score\n",
    "from sklearn.naive_bayes import MultinomialNB\n",
    "clf = MultinomialNB().fit(train_vectors, c_train)\n",
    "predicted = clf.predict(test_vectors)\n",
    "print('accuracy of correctness classification with bayes classifier: '+str(accuracy_score(c_test,predicted)))\n",
    "print('f1 score of correctness classification with bayes classifier: '+str(f1_score(c_test,predicted)))"
   ]
  },
  {
   "cell_type": "markdown",
   "metadata": {},
   "source": [
    "### answer type"
   ]
  },
  {
   "cell_type": "code",
   "execution_count": 28,
   "metadata": {},
   "outputs": [
    {
     "name": "stdout",
     "output_type": "stream",
     "text": [
      "accuracy of answer type classification with bayes classifier: 0.7052631578947368\n"
     ]
    }
   ],
   "source": [
    "clf = MultinomialNB().fit(train_vectors, at_train)\n",
    "predicted = clf.predict(test_vectors)\n",
    "print('accuracy of answer type classification with bayes classifier: '+str(accuracy_score(at_test,predicted)))\n",
    "#print('f1 score of answer type classification with bayes classifier: '+str(f1_score(c_test,predicted)))"
   ]
  },
  {
   "cell_type": "code",
   "execution_count": null,
   "metadata": {},
   "outputs": [],
   "source": []
  },
  {
   "cell_type": "markdown",
   "metadata": {},
   "source": [
    "# TFIDF and naive bayes with processed answer"
   ]
  },
  {
   "cell_type": "code",
   "execution_count": 29,
   "metadata": {},
   "outputs": [],
   "source": [
    "f_train = data.iloc[:1352][ 'answer'].values\n",
    "c_train = data.iloc[:1352]['correctness'].values\n",
    "at_train = data.iloc[:1352][ 'answerType'].values\n",
    "f_test = data.iloc[1353:][ 'answer'].values\n",
    "c_test = data.iloc[1353:]['correctness'].values\n",
    "at_test = data.iloc[1353:]['answerType'].values"
   ]
  },
  {
   "cell_type": "markdown",
   "metadata": {},
   "source": [
    "### correctness"
   ]
  },
  {
   "cell_type": "code",
   "execution_count": 30,
   "metadata": {},
   "outputs": [],
   "source": [
    "from sklearn.feature_extraction.text import TfidfTransformer\n",
    "from sklearn.feature_extraction.text import TfidfVectorizer\n",
    "vectorizer = TfidfVectorizer()\n",
    "train_vectors = vectorizer.fit_transform(f_train)\n",
    "test_vectors = vectorizer.transform(f_test)"
   ]
  },
  {
   "cell_type": "code",
   "execution_count": 31,
   "metadata": {},
   "outputs": [
    {
     "name": "stdout",
     "output_type": "stream",
     "text": [
      "accuracy of correctness classification with bayes classifier: 0.7368421052631579\n",
      "f1 score of correctness classification with bayes classifier: 0.7967479674796749\n"
     ]
    }
   ],
   "source": [
    "from  sklearn.metrics  import accuracy_score, f1_score\n",
    "from sklearn.naive_bayes import MultinomialNB\n",
    "clf = MultinomialNB().fit(train_vectors, c_train)\n",
    "predicted = clf.predict(test_vectors)\n",
    "print('accuracy of correctness classification with bayes classifier: '+str(accuracy_score(c_test,predicted)))\n",
    "print('f1 score of correctness classification with bayes classifier: '+str(f1_score(c_test,predicted)))"
   ]
  },
  {
   "cell_type": "markdown",
   "metadata": {},
   "source": [
    "### answer type"
   ]
  },
  {
   "cell_type": "code",
   "execution_count": 32,
   "metadata": {},
   "outputs": [
    {
     "name": "stdout",
     "output_type": "stream",
     "text": [
      "accuracy of answer type classification with bayes classifier: 0.7157894736842105\n"
     ]
    }
   ],
   "source": [
    "clf = MultinomialNB().fit(train_vectors, at_train)\n",
    "predicted = clf.predict(test_vectors)\n",
    "print('accuracy of answer type classification with bayes classifier: '+str(accuracy_score(at_test,predicted)))\n",
    "#print('f1 score of answer type classification with bayes classifier: '+str(f1_score(c_test,predicted)))"
   ]
  },
  {
   "cell_type": "code",
   "execution_count": null,
   "metadata": {},
   "outputs": [],
   "source": []
  },
  {
   "cell_type": "markdown",
   "metadata": {},
   "source": [
    "# tfidf and Bernoulli for raw answer"
   ]
  },
  {
   "cell_type": "code",
   "execution_count": 33,
   "metadata": {},
   "outputs": [],
   "source": [
    "f_train = data.iloc[:1352][ 'Input'].values\n",
    "c_train = data.iloc[:1352]['correctness'].values\n",
    "at_train = data.iloc[:1352][ 'answerType'].values\n",
    "f_test = data.iloc[1353:][ 'Input'].values\n",
    "c_test = data.iloc[1353:]['correctness'].values\n",
    "at_test = data.iloc[1353:]['answerType'].values"
   ]
  },
  {
   "cell_type": "markdown",
   "metadata": {},
   "source": [
    "### correctness"
   ]
  },
  {
   "cell_type": "code",
   "execution_count": 34,
   "metadata": {},
   "outputs": [],
   "source": [
    "from sklearn.feature_extraction.text import TfidfTransformer\n",
    "from sklearn.feature_extraction.text import TfidfVectorizer\n",
    "vectorizer = TfidfVectorizer()\n",
    "train_vectors = vectorizer.fit_transform(f_train)\n",
    "test_vectors = vectorizer.transform(f_test)"
   ]
  },
  {
   "cell_type": "code",
   "execution_count": 35,
   "metadata": {},
   "outputs": [
    {
     "name": "stdout",
     "output_type": "stream",
     "text": [
      "accuracy of correctness classification with Bernoulli classifier: 0.8\n",
      "f1 score of correctness classification with Bernoulli classifier: 0.8288288288288288\n"
     ]
    }
   ],
   "source": [
    "from  sklearn.metrics  import accuracy_score, f1_score\n",
    "from sklearn.naive_bayes import BernoulliNB\n",
    "clf = BernoulliNB().fit(train_vectors, c_train)\n",
    "predicted = clf.predict(test_vectors)\n",
    "print('accuracy of correctness classification with Bernoulli classifier: '+str(accuracy_score(c_test,predicted)))\n",
    "print('f1 score of correctness classification with Bernoulli classifier: '+str(f1_score(c_test,predicted)))"
   ]
  },
  {
   "cell_type": "markdown",
   "metadata": {},
   "source": [
    "### answer type"
   ]
  },
  {
   "cell_type": "code",
   "execution_count": 36,
   "metadata": {},
   "outputs": [
    {
     "name": "stdout",
     "output_type": "stream",
     "text": [
      "accuracy of answer type classification with Bernoulli classifier: 0.7263157894736842\n"
     ]
    }
   ],
   "source": [
    "clf = BernoulliNB().fit(train_vectors, at_train)\n",
    "predicted = clf.predict(test_vectors)\n",
    "print('accuracy of answer type classification with Bernoulli classifier: '+str(accuracy_score(at_test,predicted)))\n",
    "#print('f1 score of answer type classification with bayes classifier: '+str(f1_score(c_test,predicted)))"
   ]
  },
  {
   "cell_type": "code",
   "execution_count": null,
   "metadata": {},
   "outputs": [],
   "source": []
  },
  {
   "cell_type": "markdown",
   "metadata": {},
   "source": [
    "# tfidf and Bernoulli for processed answer"
   ]
  },
  {
   "cell_type": "code",
   "execution_count": 37,
   "metadata": {},
   "outputs": [],
   "source": [
    "f_train = data.iloc[:1352][ 'answer'].values\n",
    "c_train = data.iloc[:1352]['correctness'].values\n",
    "at_train = data.iloc[:1352][ 'answerType'].values\n",
    "f_test = data.iloc[1353:][ 'answer'].values\n",
    "c_test = data.iloc[1353:]['correctness'].values\n",
    "at_test = data.iloc[1353:]['answerType'].values"
   ]
  },
  {
   "cell_type": "markdown",
   "metadata": {},
   "source": [
    "### correctness"
   ]
  },
  {
   "cell_type": "code",
   "execution_count": 38,
   "metadata": {},
   "outputs": [],
   "source": [
    "from sklearn.feature_extraction.text import TfidfTransformer\n",
    "from sklearn.feature_extraction.text import TfidfVectorizer\n",
    "vectorizer = TfidfVectorizer()\n",
    "train_vectors = vectorizer.fit_transform(f_train)\n",
    "test_vectors = vectorizer.transform(f_test)"
   ]
  },
  {
   "cell_type": "code",
   "execution_count": 39,
   "metadata": {},
   "outputs": [
    {
     "name": "stdout",
     "output_type": "stream",
     "text": [
      "accuracy of correctness classification with Bernoulli classifier: 0.7894736842105263\n",
      "f1 score of correctness classification with Bernoulli classifier: 0.8113207547169811\n"
     ]
    }
   ],
   "source": [
    "from  sklearn.metrics  import accuracy_score, f1_score\n",
    "from sklearn.naive_bayes import BernoulliNB\n",
    "clf = BernoulliNB().fit(train_vectors, c_train)\n",
    "predicted = clf.predict(test_vectors)\n",
    "print('accuracy of correctness classification with Bernoulli classifier: '+str(accuracy_score(c_test,predicted)))\n",
    "print('f1 score of correctness classification with Bernoulli classifier: '+str(f1_score(c_test,predicted)))"
   ]
  },
  {
   "cell_type": "markdown",
   "metadata": {},
   "source": [
    "### answer type"
   ]
  },
  {
   "cell_type": "code",
   "execution_count": 40,
   "metadata": {},
   "outputs": [
    {
     "name": "stdout",
     "output_type": "stream",
     "text": [
      "accuracy of answer type classification with Bernoulli classifier: 0.6736842105263158\n"
     ]
    }
   ],
   "source": [
    "clf = BernoulliNB().fit(train_vectors, at_train)\n",
    "predicted = clf.predict(test_vectors)\n",
    "print('accuracy of answer type classification with Bernoulli classifier: '+str(accuracy_score(at_test,predicted)))\n",
    "#print('f1 score of answer type classification with bayes classifier: '+str(f1_score(c_test,predicted)))"
   ]
  },
  {
   "cell_type": "code",
   "execution_count": null,
   "metadata": {},
   "outputs": [],
   "source": []
  },
  {
   "cell_type": "code",
   "execution_count": null,
   "metadata": {},
   "outputs": [],
   "source": []
  },
  {
   "cell_type": "markdown",
   "metadata": {},
   "source": [
    "# Tfidf and logistic regression with proccessed answer"
   ]
  },
  {
   "cell_type": "code",
   "execution_count": 41,
   "metadata": {},
   "outputs": [],
   "source": [
    "from sklearn.linear_model import LogisticRegression,SGDClassifier"
   ]
  },
  {
   "cell_type": "code",
   "execution_count": 42,
   "metadata": {},
   "outputs": [],
   "source": [
    "f_train = data.iloc[:1352][ 'answer'].values\n",
    "c_train = data.iloc[:1352]['correctness'].values\n",
    "at_train = data.iloc[:1352][ 'answerType'].values\n",
    "f_test = data.iloc[1353:][ 'answer'].values\n",
    "c_test = data.iloc[1353:]['correctness'].values\n",
    "at_test = data.iloc[1353:]['answerType'].values"
   ]
  },
  {
   "cell_type": "markdown",
   "metadata": {},
   "source": [
    "### correctness"
   ]
  },
  {
   "cell_type": "code",
   "execution_count": 43,
   "metadata": {},
   "outputs": [],
   "source": [
    "vectorizer = TfidfVectorizer()\n",
    "train_vectors = vectorizer.fit_transform(f_train)\n",
    "test_vectors = vectorizer.transform(f_test)"
   ]
  },
  {
   "cell_type": "code",
   "execution_count": 44,
   "metadata": {},
   "outputs": [
    {
     "name": "stdout",
     "output_type": "stream",
     "text": [
      "accuracy of correctness classification with logistic classifier: 0.8210526315789474\n",
      "f1 score of correctness classification with logistic classifier: 0.8495575221238938\n"
     ]
    },
    {
     "name": "stderr",
     "output_type": "stream",
     "text": [
      "D:\\anaconda\\envs\\torch\\lib\\site-packages\\sklearn\\linear_model\\logistic.py:432: FutureWarning: Default solver will be changed to 'lbfgs' in 0.22. Specify a solver to silence this warning.\n",
      "  FutureWarning)\n"
     ]
    }
   ],
   "source": [
    "from  sklearn.metrics  import accuracy_score, f1_score\n",
    "clf = LogisticRegression().fit(train_vectors, c_train)\n",
    "predicted = clf.predict(test_vectors)\n",
    "print('accuracy of correctness classification with logistic classifier: '+str(accuracy_score(c_test,predicted)))\n",
    "print('f1 score of correctness classification with logistic classifier: '+str(f1_score(c_test,predicted)))"
   ]
  },
  {
   "cell_type": "markdown",
   "metadata": {},
   "source": [
    "### answer type"
   ]
  },
  {
   "cell_type": "code",
   "execution_count": 45,
   "metadata": {},
   "outputs": [
    {
     "name": "stdout",
     "output_type": "stream",
     "text": [
      "accuracy of answer type classification with logistic classifier: 0.7578947368421053\n"
     ]
    },
    {
     "name": "stderr",
     "output_type": "stream",
     "text": [
      "D:\\anaconda\\envs\\torch\\lib\\site-packages\\sklearn\\linear_model\\logistic.py:469: FutureWarning: Default multi_class will be changed to 'auto' in 0.22. Specify the multi_class option to silence this warning.\n",
      "  \"this warning.\", FutureWarning)\n"
     ]
    }
   ],
   "source": [
    "from  sklearn.metrics  import accuracy_score, f1_score\n",
    "clf = LogisticRegression().fit(train_vectors, at_train)\n",
    "predicted = clf.predict(test_vectors)\n",
    "print('accuracy of answer type classification with logistic classifier: '+str(accuracy_score(at_test,predicted)))\n",
    "#print('f1 score of correctness classification with logistic classifier: '+str(f1_score(at_test,predicted)))"
   ]
  },
  {
   "cell_type": "code",
   "execution_count": null,
   "metadata": {},
   "outputs": [],
   "source": []
  },
  {
   "cell_type": "markdown",
   "metadata": {},
   "source": [
    "# Tfidf and logistic regression with raw answer"
   ]
  },
  {
   "cell_type": "code",
   "execution_count": 46,
   "metadata": {},
   "outputs": [],
   "source": [
    "f_train = data.iloc[:1352][ 'Input'].values\n",
    "c_train = data.iloc[:1352]['correctness'].values\n",
    "at_train = data.iloc[:1352][ 'answerType'].values\n",
    "f_test = data.iloc[1353:][ 'Input'].values\n",
    "c_test = data.iloc[1353:]['correctness'].values\n",
    "at_test = data.iloc[1353:]['answerType'].values"
   ]
  },
  {
   "cell_type": "markdown",
   "metadata": {},
   "source": [
    "### correctness"
   ]
  },
  {
   "cell_type": "code",
   "execution_count": 47,
   "metadata": {},
   "outputs": [],
   "source": [
    "vectorizer = TfidfVectorizer()\n",
    "train_vectors = vectorizer.fit_transform(f_train)\n",
    "test_vectors = vectorizer.transform(f_test)"
   ]
  },
  {
   "cell_type": "code",
   "execution_count": 48,
   "metadata": {},
   "outputs": [
    {
     "name": "stdout",
     "output_type": "stream",
     "text": [
      "accuracy of correctness classification with logistic classifier: 0.8\n",
      "f1 score of correctness classification with logistic classifier: 0.8347826086956522\n"
     ]
    },
    {
     "name": "stderr",
     "output_type": "stream",
     "text": [
      "D:\\anaconda\\envs\\torch\\lib\\site-packages\\sklearn\\linear_model\\logistic.py:432: FutureWarning: Default solver will be changed to 'lbfgs' in 0.22. Specify a solver to silence this warning.\n",
      "  FutureWarning)\n"
     ]
    }
   ],
   "source": [
    "from  sklearn.metrics  import accuracy_score, f1_score\n",
    "clf = LogisticRegression().fit(train_vectors, c_train)\n",
    "predicted = clf.predict(test_vectors)\n",
    "print('accuracy of correctness classification with logistic classifier: '+str(accuracy_score(c_test,predicted)))\n",
    "print('f1 score of correctness classification with logistic classifier: '+str(f1_score(c_test,predicted)))"
   ]
  },
  {
   "cell_type": "markdown",
   "metadata": {},
   "source": [
    "### answer type"
   ]
  },
  {
   "cell_type": "code",
   "execution_count": 49,
   "metadata": {},
   "outputs": [
    {
     "name": "stdout",
     "output_type": "stream",
     "text": [
      "accuracy of answer type classification with logistic classifier: 0.7473684210526316\n"
     ]
    },
    {
     "name": "stderr",
     "output_type": "stream",
     "text": [
      "D:\\anaconda\\envs\\torch\\lib\\site-packages\\sklearn\\linear_model\\logistic.py:469: FutureWarning: Default multi_class will be changed to 'auto' in 0.22. Specify the multi_class option to silence this warning.\n",
      "  \"this warning.\", FutureWarning)\n"
     ]
    }
   ],
   "source": [
    "from  sklearn.metrics  import accuracy_score, f1_score\n",
    "clf = LogisticRegression().fit(train_vectors, at_train)\n",
    "predicted = clf.predict(test_vectors)\n",
    "print('accuracy of answer type classification with logistic classifier: '+str(accuracy_score(at_test,predicted)))\n",
    "#print('f1 score of correctness classification with logistic classifier: '+str(f1_score(at_test,predicted)))"
   ]
  },
  {
   "cell_type": "code",
   "execution_count": 50,
   "metadata": {},
   "outputs": [],
   "source": [
    "#clf.show_most_informative_features(15)"
   ]
  },
  {
   "cell_type": "code",
   "execution_count": null,
   "metadata": {},
   "outputs": [],
   "source": []
  },
  {
   "cell_type": "code",
   "execution_count": null,
   "metadata": {},
   "outputs": [],
   "source": []
  },
  {
   "cell_type": "markdown",
   "metadata": {},
   "source": [
    "# tdidf and support vector machine for raw answer"
   ]
  },
  {
   "cell_type": "code",
   "execution_count": 51,
   "metadata": {},
   "outputs": [],
   "source": [
    "f_train = data.iloc[:1352][ 'Input'].values\n",
    "c_train = data.iloc[:1352]['correctness'].values\n",
    "at_train = data.iloc[:1352][ 'answerType'].values\n",
    "f_test = data.iloc[1353:][ 'Input'].values\n",
    "c_test = data.iloc[1353:]['correctness'].values\n",
    "at_test = data.iloc[1353:]['answerType'].values"
   ]
  },
  {
   "cell_type": "markdown",
   "metadata": {},
   "source": [
    "### correctness"
   ]
  },
  {
   "cell_type": "code",
   "execution_count": 52,
   "metadata": {},
   "outputs": [],
   "source": [
    "vectorizer = TfidfVectorizer()\n",
    "train_vectors = vectorizer.fit_transform(f_train)\n",
    "test_vectors = vectorizer.transform(f_test)"
   ]
  },
  {
   "cell_type": "code",
   "execution_count": 53,
   "metadata": {},
   "outputs": [
    {
     "name": "stdout",
     "output_type": "stream",
     "text": [
      "accuracy of correctness classification with svc classifier: 0.8421052631578947\n",
      "f1 score of correctness classification with svc classifier: 0.8598130841121496\n"
     ]
    }
   ],
   "source": [
    "clf = LinearSVC().fit(train_vectors, c_train)\n",
    "predicted = clf.predict(test_vectors)\n",
    "print('accuracy of correctness classification with svc classifier: '+str(accuracy_score(c_test,predicted)))\n",
    "print('f1 score of correctness classification with svc classifier: '+str(f1_score(c_test,predicted)))"
   ]
  },
  {
   "cell_type": "markdown",
   "metadata": {},
   "source": [
    "### answer type"
   ]
  },
  {
   "cell_type": "code",
   "execution_count": 54,
   "metadata": {},
   "outputs": [
    {
     "name": "stdout",
     "output_type": "stream",
     "text": [
      "accuracy of answer type classification with svc classifier: 0.7789473684210526\n"
     ]
    }
   ],
   "source": [
    "clf = LinearSVC().fit(train_vectors, at_train)\n",
    "predicted = clf.predict(test_vectors)\n",
    "print('accuracy of answer type classification with svc classifier: '+str(accuracy_score(at_test,predicted)))\n",
    "#print('f1 score of answer type classification with svc classifier: '+str(f1_score(at_test,predicted)))"
   ]
  },
  {
   "cell_type": "code",
   "execution_count": null,
   "metadata": {},
   "outputs": [],
   "source": []
  },
  {
   "cell_type": "markdown",
   "metadata": {},
   "source": [
    "# tdidf and support vector machine for processed answer"
   ]
  },
  {
   "cell_type": "code",
   "execution_count": 55,
   "metadata": {},
   "outputs": [],
   "source": [
    "f_train = data.iloc[:1352][ 'answer'].values\n",
    "c_train = data.iloc[:1352]['correctness'].values\n",
    "at_train = data.iloc[:1352][ 'answerType'].values\n",
    "f_test = data.iloc[1353:][ 'answer'].values\n",
    "c_test = data.iloc[1353:]['correctness'].values\n",
    "at_test = data.iloc[1353:]['answerType'].values"
   ]
  },
  {
   "cell_type": "markdown",
   "metadata": {},
   "source": [
    "### correctness"
   ]
  },
  {
   "cell_type": "code",
   "execution_count": 56,
   "metadata": {},
   "outputs": [],
   "source": [
    "vectorizer = TfidfVectorizer()\n",
    "train_vectors = vectorizer.fit_transform(f_train)\n",
    "test_vectors = vectorizer.transform(f_test)"
   ]
  },
  {
   "cell_type": "code",
   "execution_count": 57,
   "metadata": {},
   "outputs": [
    {
     "name": "stdout",
     "output_type": "stream",
     "text": [
      "accuracy of correctness classification with svc classifier: 0.8421052631578947\n",
      "f1 score of correctness classification with svc classifier: 0.8648648648648649\n"
     ]
    }
   ],
   "source": [
    "clf = LinearSVC().fit(train_vectors, c_train)\n",
    "predicted = clf.predict(test_vectors)\n",
    "print('accuracy of correctness classification with svc classifier: '+str(accuracy_score(c_test,predicted)))\n",
    "print('f1 score of correctness classification with svc classifier: '+str(f1_score(c_test,predicted)))"
   ]
  },
  {
   "cell_type": "markdown",
   "metadata": {},
   "source": [
    "### answer type"
   ]
  },
  {
   "cell_type": "code",
   "execution_count": 58,
   "metadata": {},
   "outputs": [
    {
     "name": "stdout",
     "output_type": "stream",
     "text": [
      "accuracy of answer type classification with svc classifier: 0.7684210526315789\n"
     ]
    }
   ],
   "source": [
    "clf = LinearSVC().fit(train_vectors, at_train)\n",
    "predicted = clf.predict(test_vectors)\n",
    "print('accuracy of answer type classification with svc classifier: '+str(accuracy_score(at_test,predicted)))\n",
    "#print('f1 score of answer type classification with svc classifier: '+str(f1_score(at_test,predicted)))"
   ]
  },
  {
   "cell_type": "code",
   "execution_count": null,
   "metadata": {},
   "outputs": [],
   "source": []
  },
  {
   "cell_type": "markdown",
   "metadata": {},
   "source": [
    "# TFIDF and decision tree for raw answer"
   ]
  },
  {
   "cell_type": "code",
   "execution_count": 59,
   "metadata": {},
   "outputs": [],
   "source": [
    "from sklearn.tree import DecisionTreeClassifier"
   ]
  },
  {
   "cell_type": "code",
   "execution_count": 60,
   "metadata": {},
   "outputs": [],
   "source": [
    "f_train = data.iloc[:1352][ 'Input'].values\n",
    "c_train = data.iloc[:1352]['correctness'].values\n",
    "at_train = data.iloc[:1352][ 'answerType'].values\n",
    "f_test = data.iloc[1353:][ 'Input'].values\n",
    "c_test = data.iloc[1353:]['correctness'].values\n",
    "at_test = data.iloc[1353:]['answerType'].values"
   ]
  },
  {
   "cell_type": "markdown",
   "metadata": {},
   "source": [
    "### correctness"
   ]
  },
  {
   "cell_type": "code",
   "execution_count": 61,
   "metadata": {},
   "outputs": [],
   "source": [
    "vectorizer = TfidfVectorizer()\n",
    "train_vectors = vectorizer.fit_transform(f_train)\n",
    "test_vectors = vectorizer.transform(f_test)"
   ]
  },
  {
   "cell_type": "code",
   "execution_count": 62,
   "metadata": {},
   "outputs": [
    {
     "name": "stdout",
     "output_type": "stream",
     "text": [
      "accuracy of correctness classification with decision tree: 0.7157894736842105\n",
      "f1 score of correctness classification with decision tree: 0.7476635514018692\n"
     ]
    }
   ],
   "source": [
    "clf = DecisionTreeClassifier().fit(train_vectors, c_train)\n",
    "predicted = clf.predict(test_vectors)\n",
    "print('accuracy of correctness classification with decision tree: '+str(accuracy_score(c_test,predicted)))\n",
    "print('f1 score of correctness classification with decision tree: '+str(f1_score(c_test,predicted)))"
   ]
  },
  {
   "cell_type": "markdown",
   "metadata": {},
   "source": [
    "### answer type"
   ]
  },
  {
   "cell_type": "code",
   "execution_count": 63,
   "metadata": {},
   "outputs": [
    {
     "name": "stdout",
     "output_type": "stream",
     "text": [
      "accuracy of answer type classification with decision tree: 0.6947368421052632\n"
     ]
    }
   ],
   "source": [
    "clf = DecisionTreeClassifier().fit(train_vectors, at_train)\n",
    "predicted = clf.predict(test_vectors)\n",
    "print('accuracy of answer type classification with decision tree: '+str(accuracy_score(at_test,predicted)))\n",
    "#print('f1 score of answer type classification with svc classifier: '+str(f1_score(at_test,predicted)))"
   ]
  },
  {
   "cell_type": "code",
   "execution_count": null,
   "metadata": {},
   "outputs": [],
   "source": []
  },
  {
   "cell_type": "markdown",
   "metadata": {},
   "source": [
    "# TFIDF and decision tree for processed answer"
   ]
  },
  {
   "cell_type": "code",
   "execution_count": 64,
   "metadata": {},
   "outputs": [],
   "source": [
    "f_train = data.iloc[:1352][ 'answer'].values\n",
    "c_train = data.iloc[:1352]['correctness'].values\n",
    "at_train = data.iloc[:1352][ 'answerType'].values\n",
    "f_test = data.iloc[1353:][ 'answer'].values\n",
    "c_test = data.iloc[1353:]['correctness'].values\n",
    "at_test = data.iloc[1353:]['answerType'].values"
   ]
  },
  {
   "cell_type": "markdown",
   "metadata": {},
   "source": [
    "### correctness"
   ]
  },
  {
   "cell_type": "code",
   "execution_count": 65,
   "metadata": {},
   "outputs": [],
   "source": [
    "vectorizer = TfidfVectorizer()\n",
    "train_vectors = vectorizer.fit_transform(f_train)\n",
    "test_vectors = vectorizer.transform(f_test)"
   ]
  },
  {
   "cell_type": "code",
   "execution_count": 66,
   "metadata": {},
   "outputs": [
    {
     "name": "stdout",
     "output_type": "stream",
     "text": [
      "accuracy of correctness classification with decision tree: 0.6736842105263158\n",
      "f1 score of correctness classification with decision tree: 0.6990291262135923\n"
     ]
    }
   ],
   "source": [
    "clf = DecisionTreeClassifier().fit(train_vectors, c_train)\n",
    "predicted = clf.predict(test_vectors)\n",
    "print('accuracy of correctness classification with decision tree: '+str(accuracy_score(c_test,predicted)))\n",
    "print('f1 score of correctness classification with decision tree: '+str(f1_score(c_test,predicted)))"
   ]
  },
  {
   "cell_type": "markdown",
   "metadata": {},
   "source": [
    "### answer type"
   ]
  },
  {
   "cell_type": "code",
   "execution_count": 67,
   "metadata": {},
   "outputs": [
    {
     "name": "stdout",
     "output_type": "stream",
     "text": [
      "accuracy of answer type classification with decision tree: 0.6947368421052632\n"
     ]
    }
   ],
   "source": [
    "clf = DecisionTreeClassifier().fit(train_vectors, at_train)\n",
    "predicted = clf.predict(test_vectors)\n",
    "print('accuracy of answer type classification with decision tree: '+str(accuracy_score(at_test,predicted)))\n",
    "#print('f1 score of answer type classification with svc classifier: '+str(f1_score(at_test,predicted)))"
   ]
  },
  {
   "cell_type": "code",
   "execution_count": null,
   "metadata": {},
   "outputs": [],
   "source": []
  },
  {
   "cell_type": "code",
   "execution_count": 61,
   "metadata": {},
   "outputs": [],
   "source": [
    "from sklearn.metrics import classification_report"
   ]
  },
  {
   "cell_type": "code",
   "execution_count": 62,
   "metadata": {},
   "outputs": [
    {
     "name": "stdout",
     "output_type": "stream",
     "text": [
      "              precision    recall  f1-score   support\n",
      "\n",
      "           c       0.50      0.80      0.62         5\n",
      "           n       0.83      0.62      0.71         8\n",
      "           p       0.89      0.81      0.85        31\n",
      "           u       0.00      0.00      0.00         2\n",
      "           v       0.17      0.50      0.25         2\n",
      "\n",
      "    accuracy                           0.73        48\n",
      "   macro avg       0.48      0.55      0.49        48\n",
      "weighted avg       0.77      0.73      0.74        48\n",
      "\n"
     ]
    },
    {
     "name": "stderr",
     "output_type": "stream",
     "text": [
      "D:\\anaconda\\envs\\ntds\\lib\\site-packages\\sklearn\\metrics\\classification.py:1437: UndefinedMetricWarning: Precision and F-score are ill-defined and being set to 0.0 in labels with no predicted samples.\n",
      "  'precision', 'predicted', average, warn_for)\n"
     ]
    }
   ],
   "source": [
    "print(classification_report(at_test,predicted))"
   ]
  },
  {
   "cell_type": "code",
   "execution_count": null,
   "metadata": {},
   "outputs": [],
   "source": []
  },
  {
   "cell_type": "code",
   "execution_count": null,
   "metadata": {},
   "outputs": [],
   "source": []
  },
  {
   "cell_type": "code",
   "execution_count": null,
   "metadata": {},
   "outputs": [],
   "source": []
  },
  {
   "cell_type": "markdown",
   "metadata": {},
   "source": [
    "# TFIDF and random forest for processed answer"
   ]
  },
  {
   "cell_type": "code",
   "execution_count": 68,
   "metadata": {},
   "outputs": [],
   "source": [
    "from sklearn.ensemble import RandomForestClassifier"
   ]
  },
  {
   "cell_type": "code",
   "execution_count": 69,
   "metadata": {},
   "outputs": [],
   "source": [
    "f_train = data.iloc[:1352][ 'answer'].values\n",
    "c_train = data.iloc[:1352]['correctness'].values\n",
    "at_train = data.iloc[:1352][ 'answerType'].values\n",
    "f_test = data.iloc[1353:][ 'answer'].values\n",
    "c_test = data.iloc[1353:]['correctness'].values\n",
    "at_test = data.iloc[1353:]['answerType'].values"
   ]
  },
  {
   "cell_type": "markdown",
   "metadata": {},
   "source": [
    "### correctness"
   ]
  },
  {
   "cell_type": "code",
   "execution_count": 70,
   "metadata": {},
   "outputs": [],
   "source": [
    "vectorizer = TfidfVectorizer()\n",
    "train_vectors = vectorizer.fit_transform(f_train)\n",
    "test_vectors = vectorizer.transform(f_test)"
   ]
  },
  {
   "cell_type": "code",
   "execution_count": 71,
   "metadata": {},
   "outputs": [
    {
     "name": "stdout",
     "output_type": "stream",
     "text": [
      "accuracy of correctness classification with decision tree: 0.7894736842105263\n",
      "f1 score of correctness classification with decision tree: 0.8245614035087719\n"
     ]
    },
    {
     "name": "stderr",
     "output_type": "stream",
     "text": [
      "D:\\anaconda\\envs\\torch\\lib\\site-packages\\sklearn\\ensemble\\forest.py:245: FutureWarning: The default value of n_estimators will change from 10 in version 0.20 to 100 in 0.22.\n",
      "  \"10 in version 0.20 to 100 in 0.22.\", FutureWarning)\n"
     ]
    }
   ],
   "source": [
    "clf = RandomForestClassifier().fit(train_vectors, c_train)\n",
    "predicted = clf.predict(test_vectors)\n",
    "print('accuracy of correctness classification with decision tree: '+str(accuracy_score(c_test,predicted)))\n",
    "print('f1 score of correctness classification with decision tree: '+str(f1_score(c_test,predicted)))"
   ]
  },
  {
   "cell_type": "markdown",
   "metadata": {},
   "source": [
    "### answer type"
   ]
  },
  {
   "cell_type": "code",
   "execution_count": 72,
   "metadata": {},
   "outputs": [
    {
     "name": "stdout",
     "output_type": "stream",
     "text": [
      "accuracy of answer type classification with decision tree: 0.7263157894736842\n"
     ]
    },
    {
     "name": "stderr",
     "output_type": "stream",
     "text": [
      "D:\\anaconda\\envs\\torch\\lib\\site-packages\\sklearn\\ensemble\\forest.py:245: FutureWarning: The default value of n_estimators will change from 10 in version 0.20 to 100 in 0.22.\n",
      "  \"10 in version 0.20 to 100 in 0.22.\", FutureWarning)\n"
     ]
    }
   ],
   "source": [
    "clf = RandomForestClassifier().fit(train_vectors, at_train)\n",
    "predicted = clf.predict(test_vectors)\n",
    "print('accuracy of answer type classification with decision tree: '+str(accuracy_score(at_test,predicted)))\n",
    "#print('f1 score of answer type classification with svc classifier: '+str(f1_score(at_test,predicted)))"
   ]
  },
  {
   "cell_type": "code",
   "execution_count": null,
   "metadata": {},
   "outputs": [],
   "source": []
  },
  {
   "cell_type": "markdown",
   "metadata": {},
   "source": [
    "# TFIDF and random forest for raw answer"
   ]
  },
  {
   "cell_type": "code",
   "execution_count": 73,
   "metadata": {},
   "outputs": [],
   "source": [
    "f_train = data.iloc[:1352][ 'Input'].values\n",
    "c_train = data.iloc[:1352]['correctness'].values\n",
    "at_train = data.iloc[:1352][ 'answerType'].values\n",
    "f_test = data.iloc[1353:][ 'Input'].values\n",
    "c_test = data.iloc[1353:]['correctness'].values\n",
    "at_test = data.iloc[1353:]['answerType'].values"
   ]
  },
  {
   "cell_type": "markdown",
   "metadata": {},
   "source": [
    "### correctness"
   ]
  },
  {
   "cell_type": "code",
   "execution_count": 74,
   "metadata": {},
   "outputs": [],
   "source": [
    "vectorizer = TfidfVectorizer()\n",
    "train_vectors = vectorizer.fit_transform(f_train)\n",
    "test_vectors = vectorizer.transform(f_test)"
   ]
  },
  {
   "cell_type": "code",
   "execution_count": 75,
   "metadata": {},
   "outputs": [
    {
     "name": "stdout",
     "output_type": "stream",
     "text": [
      "accuracy of correctness classification with decision tree: 0.7578947368421053\n",
      "f1 score of correctness classification with decision tree: 0.7999999999999999\n"
     ]
    },
    {
     "name": "stderr",
     "output_type": "stream",
     "text": [
      "D:\\anaconda\\envs\\torch\\lib\\site-packages\\sklearn\\ensemble\\forest.py:245: FutureWarning: The default value of n_estimators will change from 10 in version 0.20 to 100 in 0.22.\n",
      "  \"10 in version 0.20 to 100 in 0.22.\", FutureWarning)\n"
     ]
    }
   ],
   "source": [
    "clf = RandomForestClassifier().fit(train_vectors, c_train)\n",
    "predicted = clf.predict(test_vectors)\n",
    "print('accuracy of correctness classification with decision tree: '+str(accuracy_score(c_test,predicted)))\n",
    "print('f1 score of correctness classification with decision tree: '+str(f1_score(c_test,predicted)))"
   ]
  },
  {
   "cell_type": "markdown",
   "metadata": {},
   "source": [
    "### answer type"
   ]
  },
  {
   "cell_type": "code",
   "execution_count": 76,
   "metadata": {},
   "outputs": [
    {
     "name": "stdout",
     "output_type": "stream",
     "text": [
      "accuracy of answer type classification with decision tree: 0.7263157894736842\n"
     ]
    },
    {
     "name": "stderr",
     "output_type": "stream",
     "text": [
      "D:\\anaconda\\envs\\torch\\lib\\site-packages\\sklearn\\ensemble\\forest.py:245: FutureWarning: The default value of n_estimators will change from 10 in version 0.20 to 100 in 0.22.\n",
      "  \"10 in version 0.20 to 100 in 0.22.\", FutureWarning)\n"
     ]
    }
   ],
   "source": [
    "clf = RandomForestClassifier().fit(train_vectors, at_train)\n",
    "predicted = clf.predict(test_vectors)\n",
    "print('accuracy of answer type classification with decision tree: '+str(accuracy_score(at_test,predicted)))\n",
    "#print('f1 score of answer type classification with svc classifier: '+str(f1_score(at_test,predicted)))"
   ]
  },
  {
   "cell_type": "code",
   "execution_count": null,
   "metadata": {},
   "outputs": [],
   "source": []
  },
  {
   "cell_type": "code",
   "execution_count": null,
   "metadata": {},
   "outputs": [],
   "source": []
  },
  {
   "cell_type": "markdown",
   "metadata": {},
   "source": [
    "## most informative features in classification"
   ]
  },
  {
   "cell_type": "code",
   "execution_count": 23,
   "metadata": {},
   "outputs": [],
   "source": [
    "def get_tfidf_dic(array):\n",
    "    temp_dict={}\n",
    "    names=vectorizer.get_feature_names()\n",
    "    for i in range(len(names)):\n",
    "        temp_dict[names[i]]=array[i]\n",
    "    return temp_dict"
   ]
  },
  {
   "cell_type": "code",
   "execution_count": 24,
   "metadata": {},
   "outputs": [],
   "source": [
    "train_set=[(get_tfidf_dic(train_vectors.toarray()[i]), at_train[i])  for i in range(train_vectors.shape[0])]"
   ]
  },
  {
   "cell_type": "code",
   "execution_count": 25,
   "metadata": {},
   "outputs": [],
   "source": [
    "dt_cls=nltk.NaiveBayesClassifier.train(train_set)"
   ]
  },
  {
   "cell_type": "code",
   "execution_count": 26,
   "metadata": {},
   "outputs": [
    {
     "name": "stdout",
     "output_type": "stream",
     "text": [
      "Most Informative Features\n",
      "                   piece = 0.4378860785761671      c : p      =     10.3 : 1.0\n",
      "                  bigger = 0.3518819571997357      c : p      =      9.3 : 1.0\n",
      "                     the = 0.0                 p : v      =      8.9 : 1.0\n",
      "                 smaller = 0.30359813944714503      c : p      =      8.6 : 1.0\n",
      "             denominator = 0.23073479097418015      c : p      =      7.4 : 1.0\n"
     ]
    }
   ],
   "source": [
    "dt_cls.show_most_informative_features(5)"
   ]
  },
  {
   "cell_type": "code",
   "execution_count": 27,
   "metadata": {},
   "outputs": [],
   "source": [
    "info_f=dt_cls.most_informative_features(100)"
   ]
  },
  {
   "cell_type": "code",
   "execution_count": 28,
   "metadata": {},
   "outputs": [],
   "source": [
    "info_fs=[temp[0] for temp in info_f]"
   ]
  },
  {
   "cell_type": "code",
   "execution_count": 29,
   "metadata": {},
   "outputs": [],
   "source": [
    "info_text=''\n",
    "for temp_word in info_fs:\n",
    "    info_text=info_text+temp_word+' '"
   ]
  },
  {
   "cell_type": "code",
   "execution_count": 30,
   "metadata": {},
   "outputs": [
    {
     "data": {
      "image/png": "[encoded data removed]",
      "text/plain": [
       "<Figure size 1080x576 with 1 Axes>"
      ]
     },
     "metadata": {
      "needs_background": "light"
     },
     "output_type": "display_data"
    }
   ],
   "source": [
    "from wordcloud import WordCloud\n",
    "import matplotlib.pyplot as plt\n",
    "wc = WordCloud(background_color=\"white\",width=1500, height=1000, margin=2).generate(info_text)\n",
    "plt.figure(figsize=(15, 8))\n",
    "plt.imshow(wc,  interpolation=\"bilinear\",vmax=1000)\n",
    "plt.axis('off')\n",
    "plt.show()"
   ]
  },
  {
   "cell_type": "code",
   "execution_count": null,
   "metadata": {},
   "outputs": [],
   "source": []
  },
  {
   "cell_type": "code",
   "execution_count": null,
   "metadata": {},
   "outputs": [],
   "source": []
  },
  {
   "cell_type": "code",
   "execution_count": null,
   "metadata": {},
   "outputs": [],
   "source": []
  },
  {
   "cell_type": "code",
   "execution_count": null,
   "metadata": {},
   "outputs": [],
   "source": []
  },
  {
   "cell_type": "code",
   "execution_count": null,
   "metadata": {},
   "outputs": [],
   "source": []
  },
  {
   "cell_type": "code",
   "execution_count": null,
   "metadata": {},
   "outputs": [],
   "source": []
  },
  {
   "cell_type": "code",
   "execution_count": null,
   "metadata": {},
   "outputs": [],
   "source": []
  },
  {
   "cell_type": "code",
   "execution_count": null,
   "metadata": {},
   "outputs": [],
   "source": []
  },
  {
   "cell_type": "code",
   "execution_count": null,
   "metadata": {},
   "outputs": [],
   "source": []
  },
  {
   "cell_type": "code",
   "execution_count": 76,
   "metadata": {},
   "outputs": [
    {
     "ename": "AttributeError",
     "evalue": "'DecisionTreeClassifier' object has no attribute 'most_informative_features'",
     "output_type": "error",
     "traceback": [
      "\u001b[1;31m---------------------------------------------------------------------------\u001b[0m",
      "\u001b[1;31mAttributeError\u001b[0m                            Traceback (most recent call last)",
      "\u001b[1;32m<ipython-input-76-4c9c4ac139e4>\u001b[0m in \u001b[0;36m<module>\u001b[1;34m\u001b[0m\n\u001b[0;32m      1\u001b[0m \u001b[0mdt_cls\u001b[0m\u001b[1;33m=\u001b[0m\u001b[0mnltk\u001b[0m\u001b[1;33m.\u001b[0m\u001b[0mDecisionTreeClassifier\u001b[0m\u001b[1;33m.\u001b[0m\u001b[0mtrain\u001b[0m\u001b[1;33m(\u001b[0m\u001b[0mtrain_set\u001b[0m\u001b[1;33m)\u001b[0m\u001b[1;33m\u001b[0m\u001b[1;33m\u001b[0m\u001b[0m\n\u001b[1;32m----> 2\u001b[1;33m \u001b[0mdt_cls\u001b[0m\u001b[1;33m.\u001b[0m\u001b[0mmost_informative_features\u001b[0m\u001b[1;33m(\u001b[0m\u001b[1;36m5\u001b[0m\u001b[1;33m)\u001b[0m\u001b[1;33m\u001b[0m\u001b[1;33m\u001b[0m\u001b[0m\n\u001b[0m",
      "\u001b[1;31mAttributeError\u001b[0m: 'DecisionTreeClassifier' object has no attribute 'most_informative_features'"
     ]
    }
   ],
   "source": [
    "dt_cls=nltk.DecisionTreeClassifier.train(train_set)\n",
    "dt_cls.most_informative_features(5)"
   ]
  },
  {
   "cell_type": "code",
   "execution_count": null,
   "metadata": {},
   "outputs": [],
   "source": []
  }
 ],
 "metadata": {
  "kernelspec": {
   "display_name": "Python 3",
   "language": "python",
   "name": "python3"
  },
  "language_info": {
   "codemirror_mode": {
    "name": "ipython",
    "version": 3
   },
   "file_extension": ".py",
   "mimetype": "text/x-python",
   "name": "python",
   "nbconvert_exporter": "python",
   "pygments_lexer": "ipython3",
   "version": "3.7.3"
  }
 },
 "nbformat": 4,
 "nbformat_minor": 2
}
